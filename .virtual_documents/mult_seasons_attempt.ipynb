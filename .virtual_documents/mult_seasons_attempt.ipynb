import pandas as pd 
from sklearn.ensemble import RandomForestRegressor 
from sklearn.metrics import mean_squared_error, mean_absolute_error, r2_score 
from pprint import pprint
pd.set_option('future.no_silent_downcasting', True)
pd.options.mode.chained_assignment = None  # default='warn'





df2 = pd.read_csv('/Users/zacharylai/Desktop/fpl_points_predictor/datasets/mergedGW/20:21mergedGW.csv')
df3 = pd.read_csv('/Users/zacharylai/Desktop/fpl_points_predictor/datasets/mergedGW/21:22mergedGW.csv')
df4 = pd.read_csv('/Users/zacharylai/Desktop/fpl_points_predictor/datasets/mergedGW/22:23mergedGW.csv')
test_df = pd.read_csv('/Users/zacharylai/Desktop/fpl_points_predictor/datasets/mergedGW/23:24mergedGW.csv')

df2 = df2.sort_values( by=['name', 'GW'] ).reset_index( drop=True )
df3 = df3.sort_values( by=['name', 'GW'] ).reset_index( drop=True )
df4 = df4.sort_values( by=['name', 'GW'] ).reset_index( drop=True )
test_df = test_df.sort_values( by=['name', 'GW'] ).reset_index( drop=True )


price_df = test_df[['name','position','GW','value']]
price_df['value'] = price_df['value']/10
price_df = price_df.drop_duplicates(subset=['name', 'GW'], keep='first')    


# Combine data from 20/21, 21/22, 22/23 seasons for the training set
dataframes = [ df2, df3, df4 ]
df = pd.concat( dataframes, ignore_index = True )


# Sort by positions for training set
gk_df = df[df['position'] == 'GK']
def_df = df[df['position'] == 'DEF']
mid_df = df[df['position'] == 'MID']
fwd_df = df[df['position'] == 'FWD']


# Sort by positions for test set
gk_test_df = test_df[test_df['position'] == 'GK']
def_test_df = test_df[test_df['position'] == 'DEF']
mid_test_df = test_df[test_df['position'] == 'MID']
fwd_test_df = test_df[test_df['position'] == 'FWD']


# Create a mapping from player names to categorical codes
def name_mapping( df ):
    df['name'] = df['name'].astype('category')
    name_mapping = dict(enumerate( df['name'].cat.categories ) )
    name_mapping_reverse = { v: k for k, v in name_mapping.items() }
    df['name'] = df['name'].cat.codes
    return df, name_mapping, name_mapping_reverse


team_strength = { 1:5, 2:4, 3:3, 4:3, 5:3, 6:2, 7:3, 8:3, 9:3, 10:3, 11:4, 12:2, 13:5, 14:3, 15:3, 16:3, 17:2, 18:4, 19:3, 20:3 }








def gk_preprocess( gk_df ):
    gk_df['avg_saves'] = gk_df.groupby('name')['saves'].expanding().mean().shift(1).reset_index(level=0, drop=True)
    gk_df['avg_ict'] = gk_df.groupby('name')['ict_index'].expanding().mean().shift(1).reset_index(level=0, drop=True)
    gk_df['avg_pen_saves'] = gk_df.groupby('name')['penalties_saved'].expanding().mean().shift(1).reset_index(level=0, drop=True)
    gk_df['avg_goals_conceded'] = gk_df.groupby('name')['goals_conceded'].expanding().mean().shift(1).reset_index(level=0, drop=True)
    gk_df['avg_xP'] = gk_df.groupby('name')['xP'].expanding().mean().shift(1).reset_index(level=0, drop=True)
    gk_df['avg_cs'] = gk_df.groupby('name')['clean_sheets'].expanding().mean().shift(1).reset_index(level=0, drop=True)
    gk_df['avg_bps'] = gk_df.groupby('name')['bps'].expanding().mean().shift(1).reset_index(level=0, drop=True)
    gk_df['avg_mins'] = gk_df.groupby('name')['minutes'].expanding().mean().shift(1).reset_index(level=0, drop=True)
    gk_df['avg_x_goals_conceded'] = gk_df.groupby('name')['expected_goals_conceded'].expanding().mean().shift(1).reset_index(level=0, drop=True)
    
    gk_df['total_pen_saves'] = gk_df.groupby('name')['penalties_saved'].cumsum().shift(1).fillna(0)
    gk_df['total_cs'] = gk_df.groupby('name')['clean_sheets'].cumsum().shift(1).fillna(0)
    gk_df['total_starts'] = gk_df.groupby('name')['starts'].cumsum().shift(1).fillna(0)

    gk_df['team'] = gk_df['team'].astype('category')
    gk_df['team'] = gk_df['team'].cat.codes
        
    gk_df['was_home'] = gk_df['was_home'].astype('category')
    gk_df['was_home'] = gk_df['was_home'].cat.codes

    gk_df['value'] = gk_df['value']/10
    gk_value = gk_df[['name','GW','value']]
        
    gk_df = gk_df.fillna(0)

    gk_df['opponent_strength'] = gk_df['opponent_team'].map(team_strength)
        
    gk_df = gk_df.drop(['opponent_team','value','position','total_pen_saves','was_home','team','expected_goals_conceded','penalties_saved','bonus','own_goals','minutes','saves','kickoff_time','team_a_score','team_h_score','expected_assists','expected_goal_involvements','expected_goals','transfers_in','transfers_out','transfers_balance','fixture','assists','goals_scored','ict_index','influence','creativity','threat','penalties_missed','selected','goals_conceded','xP','clean_sheets','element','round','red_cards','yellow_cards','starts','bps','total_pen_saves','total_cs'],axis=1)

    columns_to_zero = ['avg_saves', 'avg_ict', 'avg_pen_saves','avg_goals_conceded','avg_xP','avg_cs','avg_bps','avg_mins','avg_x_goals_conceded','total_starts']

    gk_df.loc[gk_df['GW'] == 1, columns_to_zero] = 0
    
    return gk_df, gk_value


gk_df = pd.read_csv('/Users/zacharylai/Desktop/fpl_points_predictor/datasets/position_sorted/goalkeepers.csv')
gk_df, gk_name_mapping, gk_name_mapping_reverse = name_mapping( gk_df )
gk_df, gk_value = gk_preprocess( gk_df )

gk_test_df = pd.read_csv('/Users/zacharylai/Desktop/fpl_points_predictor/datasets/position_sorted/goalkeepers_test.csv')
gk_test_df, gk_test_name_mapping, gk_test_name_mapping_reverse = name_mapping( gk_test_df )
gk_test_df, gk_test_value = gk_preprocess( gk_test_df )


# Split training set
gk_y_train = gk_df['total_points']
gk_X_train = gk_df.drop( ['total_points'], axis=1 )


# Split test set
gk_y_test = gk_test_df['total_points']
gk_X_test = gk_test_df.drop(['total_points'],axis=1)





gk_rf = RandomForestRegressor( max_depth=4, max_features= 15, n_estimators= 500, random_state=13 ) # max depth helps avoid overfitting, max features helps accuracy
gk_rf.fit( gk_X_train, gk_y_train )


train_pred = gk_rf.predict( gk_X_train )

gk_pred = gk_rf.predict( gk_X_test )


print( 'mean squared error: ', mean_squared_error( gk_y_test, gk_pred ) )
print( 'mean absolute error: ', mean_absolute_error( gk_y_test, gk_pred ) )
print( 'r2 score: ', r2_score( gk_y_test, gk_pred ) )

print( '-------------------------------------' )

print( 'train mean_squared_error : ', mean_squared_error( gk_y_train, train_pred ) ) 
print( 'train mean_absolute_error : ', mean_absolute_error( gk_y_train, train_pred ) ) 
print( 'r2 score: ', r2_score( gk_y_train, train_pred ) )








def def_preprocess( def_df ):
    def_df['avg_ict'] = def_df.groupby('name')['ict_index'].expanding().mean().shift(1).fillna(0).reset_index(level=0, drop=True)
    def_df['avg_bps'] = def_df.groupby('name')['bps'].expanding().mean().shift(1).fillna(0).reset_index(level=0, drop=True)
    def_df['avg_xP'] = def_df.groupby('name')['xP'].expanding().mean().shift(1).fillna(0).reset_index(level=0, drop=True)
    def_df['avg_xA'] = def_df.groupby('name')['expected_assists'].expanding().mean().shift(1).fillna(0).reset_index(level=0, drop=True)
    def_df['avg_xGI'] = def_df.groupby('name')['expected_goal_involvements'].expanding().mean().shift(1).fillna(0).reset_index(level=0, drop=True)
    def_df['avg_xGC'] = def_df.groupby('name')['expected_goals_conceded'].expanding().mean().shift(1).fillna(0).reset_index(level=0, drop=True)
    def_df['avg_GC'] = def_df.groupby('name')['goals_conceded'].expanding().mean().shift(1).fillna(0).reset_index(level=0, drop=True)
    def_df['avg_mins'] = def_df.groupby('name')['minutes'].expanding().mean().shift(1).fillna(0).reset_index(level=0, drop=True)
    def_df['total_assists'] = def_df.groupby('name')['assists'].cumsum().shift(1).fillna(0)
    def_df['total_goals'] = def_df.groupby('name')['goals_scored'].cumsum().shift(1).fillna(0)
    def_df['total_cs'] = def_df.groupby('name')['clean_sheets'].cumsum().shift(1).fillna(0)
    def_df['total_starts'] = def_df.groupby('name')['starts'].cumsum().shift(1).fillna(0)

    def_df['was_home'] = def_df['was_home'].astype('category')
    def_df['was_home'] = def_df['was_home'].cat.codes

    def_df['value'] = def_df['value']/10
    def_value = def_df[['name','GW','value']]

    def_df['opponent_strength'] = def_df['opponent_team'].map(team_strength)

    columns_to_zero = ['avg_bps', 'avg_ict', 'avg_xA','avg_GC','avg_xP','avg_xGI','avg_mins','avg_xGC','total_starts','total_cs','total_goals','total_assists']

    def_df.loc[def_df['GW'] == 1, columns_to_zero] = 0
    

    def_df = def_df.drop(['opponent_team','value','position','team','starts','minutes','goals_conceded','red_cards','team_a_score','team_h_score','yellow_cards','element','assists','goals_scored','clean_sheets','penalties_missed','penalties_saved','influence','threat','round','saves','selected','threat','kickoff_time','own_goals','fixture','creativity','transfers_balance','transfers_in','transfers_out','ict_index','bps','bonus','xP','expected_assists','expected_goals','expected_goal_involvements','expected_goals_conceded'],axis=1)
    return def_df, def_value


def_df = pd.read_csv('/Users/zacharylai/Desktop/fpl_points_predictor/datasets/position_sorted/defenders.csv')
def_df, def_name_mapping, def_name_mapping_reverse = name_mapping( def_df )
def_df,def_value = def_preprocess( def_df )

def_test_df = pd.read_csv('/Users/zacharylai/Desktop/fpl_points_predictor/datasets/position_sorted/defenders_test.csv')
def_test_df, def_test_name_mapping, def_test_name_mapping_reverse = name_mapping( def_test_df )
def_test_df,def_test_value = def_preprocess( def_test_df )


def_y_train = def_df['total_points']
def_X_train = def_df.drop( ['total_points'], axis=1 )


def_y_test = def_test_df['total_points']
def_X_test = def_test_df.drop( ['total_points'], axis=1 )





def_rf = RandomForestRegressor( max_depth=4,max_features= 5,n_estimators= 500,random_state=13 )
def_rf.fit( def_X_train, def_y_train )


train_pred = def_rf.predict( def_X_train )

def_pred = def_rf.predict( def_X_test )


print( 'mean squared error: ', mean_squared_error( def_y_test, def_pred ) )
print( 'mean absolute error: ', mean_absolute_error( def_y_test, def_pred ) )
print( 'r2 score: ', r2_score( def_y_test, def_pred ) )

print( '-------------------------------------' )

print( 'train mean_squared_error : ', mean_squared_error( def_y_train, train_pred ) ) 
print( 'train mean_absolute_error : ', mean_absolute_error( def_y_train, train_pred ) ) 
print( 'r2 score: ', r2_score( def_y_train, train_pred ) )








def mid_preprocess( mid_df ):
    mid_df['avg_ict'] = mid_df.groupby('name')['ict_index'].expanding().mean().shift(1).fillna(0).reset_index(level=0, drop=True)
    mid_df['avg_assists'] = mid_df.groupby('name')['assists'].expanding().mean().shift(1).fillna(0).reset_index(level=0, drop=True)
    mid_df['avg_goals'] = mid_df.groupby('name')['goals_scored'].expanding().mean().shift(1).fillna(0).reset_index(level=0, drop=True)
    mid_df['avg_bps'] = mid_df.groupby('name')['bps'].expanding().mean().shift(1).fillna(0).reset_index(level=0, drop=True)
    mid_df['avg_xP'] = mid_df.groupby('name')['xP'].expanding().mean().shift(1).fillna(0).reset_index(level=0, drop=True)
    mid_df['avg_xA'] = mid_df.groupby('name')['expected_assists'].expanding().mean().shift(1).fillna(0).reset_index(level=0, drop=True)
    mid_df['avg_xG'] = mid_df.groupby('name')['expected_goals'].expanding().mean().shift(1).fillna(0).reset_index(level=0, drop=True)
    mid_df['avg_xGI'] = mid_df.groupby('name')['expected_goal_involvements'].expanding().mean().shift(1).fillna(0).reset_index(level=0, drop=True)
    mid_df['avg_xGC'] = mid_df.groupby('name')['expected_goals_conceded'].expanding().mean().shift(1).fillna(0).reset_index(level=0, drop=True)
    mid_df['avg_GC'] = mid_df.groupby('name')['goals_conceded'].expanding().mean().shift(1).fillna(0).reset_index(level=0, drop=True)
    mid_df['avg_mins'] = mid_df.groupby('name')['minutes'].expanding().mean().shift(1).fillna(0).reset_index(level=0, drop=True)
    mid_df['total_assists'] = mid_df.groupby('name')['assists'].cumsum().shift(1).fillna(0)
    mid_df['total_goals'] = mid_df.groupby('name')['goals_scored'].cumsum().shift(1).fillna(0)
    mid_df['total_cs'] = mid_df.groupby('name')['clean_sheets'].cumsum().shift(1).fillna(0)
    mid_df['total_starts'] = mid_df.groupby('name')['starts'].cumsum().shift(1).fillna(0)

    mid_df['was_home'] = mid_df['was_home'].astype('category')
    mid_df['was_home'] = mid_df['was_home'].cat.codes

    mid_df['value'] = mid_df['value']/10
    mid_value = mid_df[['name','GW','value']]

    mid_df['opponent_strength'] = mid_df['opponent_team'].map(team_strength)

    columns_to_zero = ['avg_bps', 'avg_ict', 'avg_xA','avg_GC','avg_xP','avg_xG','avg_xGI','avg_mins','avg_xGC','total_starts','total_cs','total_goals','total_assists']

    mid_df.loc[mid_df['GW'] == 1, columns_to_zero] = 0

    mid_df = mid_df.drop(['opponent_team','value','position','team','transfers_balance','bonus','own_goals','saves','team_a_score','team_h_score','red_cards','yellow_cards','transfers_in','transfers_out','penalties_missed','penalties_saved','clean_sheets','creativity','influence','threat','kickoff_time','fixture','round','element','starts','selected','ict_index','assists','avg_assists','goals_scored','avg_goals','bps','xP','expected_assists','expected_goals','expected_goal_involvements','expected_goals_conceded','goals_conceded','minutes'],axis=1)
    return mid_df, mid_value


mid_df = pd.read_csv('/Users/zacharylai/Desktop/fpl_points_predictor/datasets/position_sorted/midfielders.csv')
mid_df, mid_name_mapping, mid_name_mapping_reverse = name_mapping( mid_df )
mid_df, mid_value = mid_preprocess( mid_df )

mid_test_df = pd.read_csv('/Users/zacharylai/Desktop/fpl_points_predictor/datasets/position_sorted/midfielders_test.csv')
mid_test_df, mid_test_name_mapping, mid_test_name_mapping_reverse = name_mapping( mid_test_df )
mid_test_df, mid_test_value = mid_preprocess( mid_test_df )


mid_y_train = mid_df['total_points']
mid_X_train = mid_df.drop( ['total_points'], axis=1 )


mid_y_test = mid_test_df['total_points']
mid_X_test = mid_test_df.drop( ['total_points'], axis=1 )





mid_rf = RandomForestRegressor( max_depth=4,max_features= 10,n_estimators= 100,random_state=13 )
mid_rf.fit( mid_X_train, mid_y_train )


train_pred = mid_rf.predict( mid_X_train )
mid_pred = mid_rf.predict( mid_X_test )


print( 'mean squared error: ', mean_squared_error( mid_y_test, mid_pred ) )
print( 'mean absolute error: ', mean_absolute_error( mid_y_test, mid_pred ) )
print( 'r2 score: ', r2_score( mid_y_test, mid_pred ) )

print( '-------------------------------------' )

print( 'train mean_squared_error : ', mean_squared_error( mid_y_train, train_pred ) ) 
print( 'train mean_absolute_error : ', mean_absolute_error( mid_y_train, train_pred ) ) 
print( 'r2 score: ', r2_score( mid_y_train, train_pred ) )








def fwd_preprocess( fwd_df ):
    fwd_df['avg_ict'] = fwd_df.groupby('name')['ict_index'].expanding().mean().shift(1).fillna(0).reset_index(level=0, drop=True)
    fwd_df['avg_assists'] = fwd_df.groupby('name')['assists'].expanding().mean().shift(1).fillna(0).reset_index(level=0, drop=True)
    fwd_df['avg_goals'] = fwd_df.groupby('name')['goals_scored'].expanding().mean().shift(1).fillna(0).reset_index(level=0, drop=True)
    fwd_df['avg_bps'] = fwd_df.groupby('name')['bps'].expanding().mean().shift(1).fillna(0).reset_index(level=0, drop=True)
    fwd_df['avg_xP'] = fwd_df.groupby('name')['xP'].expanding().mean().shift(1).fillna(0).reset_index(level=0, drop=True)
    fwd_df['avg_xA'] = fwd_df.groupby('name')['expected_assists'].expanding().mean().shift(1).fillna(0).reset_index(level=0, drop=True)
    fwd_df['avg_xG'] = fwd_df.groupby('name')['expected_goals'].expanding().mean().shift(1).fillna(0).reset_index(level=0, drop=True)
    fwd_df['avg_xGI'] = fwd_df.groupby('name')['expected_goal_involvements'].expanding().mean().shift(1).fillna(0).reset_index(level=0, drop=True)
    fwd_df['avg_mins'] = fwd_df.groupby('name')['minutes'].expanding().mean().shift(1).fillna(0).reset_index(level=0, drop=True)
    fwd_df['total_assists'] = fwd_df.groupby('name')['assists'].cumsum().shift(1).fillna(0)
    fwd_df['total_goals'] = fwd_df.groupby('name')['goals_scored'].cumsum().shift(1).fillna(0)
    fwd_df['total_starts'] = fwd_df.groupby('name')['starts'].cumsum().shift(1).fillna(0)
    
    fwd_df['was_home'] = fwd_df['was_home'].astype('category')
    fwd_df['was_home'] = fwd_df['was_home'].cat.codes

    fwd_df['value'] = fwd_df['value']/10
    fwd_value = fwd_df[['name','GW','value']]

    fwd_df['opponent_strength'] = fwd_df['opponent_team'].map(team_strength)

    columns_to_zero = ['avg_bps', 'avg_ict', 'avg_xA','avg_xG','avg_xP','avg_xGI','avg_mins','total_starts','total_goals','total_assists']

    fwd_df.loc[fwd_df['GW'] == 1, columns_to_zero] = 0
    
    fwd_df = fwd_df.drop(['opponent_team','value','position','team','transfers_balance','bonus','own_goals','saves','team_a_score','team_h_score','red_cards','yellow_cards','transfers_in','transfers_out','penalties_missed','penalties_saved','clean_sheets','creativity','influence','threat','kickoff_time','fixture','round','element','starts','selected','ict_index','assists','avg_assists','goals_scored','avg_goals','bps','xP','expected_assists','expected_goals','expected_goal_involvements','expected_goals_conceded','goals_conceded','minutes'],axis=1)
    
    return fwd_df, fwd_value


fwd_df = pd.read_csv('/Users/zacharylai/Desktop/fpl_points_predictor/datasets/position_sorted/forwards.csv')
fwd_df, fwd_name_mapping, fwd_name_mapping_reverse = name_mapping( fwd_df )
fwd_df, fwd_value = fwd_preprocess( fwd_df )

fwd_test_df = pd.read_csv('/Users/zacharylai/Desktop/fpl_points_predictor/datasets/position_sorted/forwards_test.csv')
fwd_test_df, fwd_test_name_mapping, fwd_test_name_mapping_reverse = name_mapping( fwd_test_df )
fwd_test_df, fwd_test_value = fwd_preprocess( fwd_test_df )


fwd_y_train = fwd_df['total_points']
fwd_X_train = fwd_df.drop( ['total_points'], axis=1 )


fwd_y_test = fwd_test_df['total_points']
fwd_X_test = fwd_test_df.drop( ['total_points'],axis=1 )





fwd_rf = RandomForestRegressor( max_depth=4,max_features= 10,n_estimators= 100,random_state=13 )
fwd_rf.fit( fwd_X_train, fwd_y_train )


train_pred = fwd_rf.predict( fwd_X_train )
fwd_pred = fwd_rf.predict( fwd_X_test )


print( 'mean squared error: ', mean_squared_error( fwd_y_test, fwd_pred ) )
print( 'mean absolute error: ', mean_absolute_error( fwd_y_test, fwd_pred ) )
print( 'r2 score: ', r2_score( fwd_y_test, fwd_pred ) )

print( '-------------------------------------' )

print( 'train mean_squared_error : ', mean_squared_error( fwd_y_train, train_pred ) ) 
print( 'train mean_absolute_error : ', mean_absolute_error( fwd_y_train, train_pred ) ) 
print( 'r2 score: ', r2_score( fwd_y_train, train_pred ) )





# previous season data, to select initial team for 23/23 season
gk_df2 = pd.read_csv('/Users/zacharylai/Desktop/df2/gk_df2.csv')
gk_df2, gk2_name_mapping, gk2_name_mapping_reverse = name_mapping( gk_df2 )
gk_df2, gk2_value = gk_preprocess( gk_df2 )
gk_df2 = gk_df2.drop(['Unnamed: 0'],axis=1)

def_df2 = pd.read_csv('/Users/zacharylai/Desktop/df2/def_df2.csv')
def_df2, def2_name_mapping, def2_name_mapping_reverse = name_mapping( def_df2 )
def_df2, def2_value = def_preprocess( def_df2 )
def_df2 = def_df2.drop(['Unnamed: 0'],axis=1)

mid_df2 = pd.read_csv('/Users/zacharylai/Desktop/df2/mid_df2.csv')
mid_df2, mid2_name_mapping, mid2_name_mapping_reverse = name_mapping( mid_df2 )
mid_df2, mid2_value = mid_preprocess( mid_df2 )
mid_df2 = mid_df2.drop(['Unnamed: 0'],axis=1)

fwd_df2 = pd.read_csv('/Users/zacharylai/Desktop/df2/fwd_df2.csv')
fwd_df2, fwd2_name_mapping, fwd2_name_mapping_reverse = name_mapping( fwd_df2 )
fwd_df2, fwd2_value = fwd_preprocess( fwd_df2 )
fwd_df2 = fwd_df2.drop(['Unnamed: 0'],axis=1)


gk2_X = gk_df2.drop( ['total_points'], axis=1 )
def2_X = def_df2.drop( ['total_points'], axis=1 )
mid2_X = mid_df2.drop( ['total_points'], axis=1 )
fwd2_X = fwd_df2.drop( ['total_points'], axis=1 )


gk2_pred = gk_rf.predict( gk2_X )
def2_pred = def_rf.predict( def2_X )
mid2_pred = mid_rf.predict( mid2_X )
fwd2_pred = fwd_rf.predict( fwd2_X )





def lookup( name_mapping, X_test, y_test, pred ):
        pprint( name_mapping )
        id = int( input( "Select an id for a player: " ) )
        gw = int( input( "Enter a game week 1-38: " ) )
        index = X_test.loc[ ( X_test['name'] == id ) & ( X_test['GW'] == gw ) ].index
        print( name_mapping[id], "predicted points for gameweek ", gw, ": ", pred[index] )
        print( name_mapping[id], "actual points for gameweek ", gw, ": ", y_test[index] )


# Function to look up players predicted and actual points for a given gameweek
def lookupPlayer():
    position = input( "Select a position( 'gk', 'def', 'mid', 'fwd' ): " )
    if position == 'gk':
        lookup( gk_test_name_mapping, gk_X_test, gk_y_test, gk_pred )
    elif position == 'def':
        lookup( def_test_name_mapping, def_X_test, def_y_test, def_pred )
    elif position == 'mid':
        lookup( mid_test_name_mapping, mid_X_test, mid_y_test, mid_pred )
    elif position == 'fwd':
        lookup( fwd_test_name_mapping, fwd_X_test, fwd_y_test, fwd_pred )


# Add price to a players list in the team selection
def add_price( price_df, gw_df, name_mapping, name_mapping_reverse ):
    price_df = price_df.drop(['position'],axis=1)
    # convert names in price dataframes to numerical representations
    for name in price_df['name']:
        price_df['name'] = price_df['name'].replace( name, name_mapping_reverse[name] )

    # merge the price and gameweek dataframe into one sharing the name columns
    res = pd.merge( price_df, gw_df, on='name' )
    return res


# return dataframe the combines names and points for the given gameweek
def combine_dfs( pred, X_test, price_df, gw, pos, name_mapping, name_mapping_reverse ):
    pred_df = pd.DataFrame( pred, columns=['points'] )
    combined_df = pd.concat( [X_test, pred_df], axis=1 )
    temp_df = combined_df[ combined_df['GW'] == gw ]
    gameweek_df = temp_df[ ['name','points'] ]
    gameweek_df['position'] = pos

    gameweek_df = gameweek_df.groupby(['name', 'position' ], as_index=False)['points'].sum()

    price_df = price_df[price_df['GW']==gw]
    price = price_df[price_df['position'] == pos.upper()]
    price_combined = add_price( price, gameweek_df, name_mapping, name_mapping_reverse )
    # print(price_combined)
    # price_combined = price_combined.drop( ['position'], axis=1 )
    sorted = price_combined.sort_values( by='points', ascending = False )
    return sorted


# return the top 15 players predicted to perform in the given gameweek using a budget of 100 pounds
def combination( gk, defs, mid, fwd, gk_map, def_map, mid_map, fwd_map, budget ):
    df = pd.concat( [ gk, defs, mid, fwd ] )
    position_requirements = { 'gk':2, 'def':5, 'mid':5, 'fwd':3 }
    position_filled = { 'gk':0, 'def':0, 'mid':0, 'fwd':0 }
    best = []
    total_cost = 0
    df = df.sort_values(by='points', ascending=False)
    players = [ 4, 4, 4, 4, 4, 4, 4, 4, 4, 4, 4, 4, 4.5, 4.5, 4.3 ]
    i=0
    # add player with highest predicted points if position is needed and he fits under the budget leaving enough for other players
    for index,row in df.iterrows():
        pos = row['position']
        total = sum(players)
        total = round( total, 1 )
        if position_filled[pos] < position_requirements[pos] and total + (row['value']-4) <= budget:
            best.append( row )         
            position_filled[pos] += 1
            players[i] = row['value']
            total_cost += ( row['value'] )
            total_cost = round( total_cost, 1 )
            i+=1
                
    gk = []
    mid = []
    defs = []
    fwd = []

    best15 = []
    # convert numerical codes to names
    for elem in best:
        list = []
        for item in elem:
            list.append(item)
        if elem['position'] == 'gk':
            list[1] = gk_map[list[1]]
            gk.append(list)
        elif elem['position'] == 'def':
            list[1] = def_map[list[1]]
            defs.append(list)
        elif elem['position'] == 'mid':
            list[1] = mid_map[list[1]]
            mid.append(list)
        else:
            list[1] = fwd_map[list[1]]
            fwd.append(list)
    best15.append(gk)
    best15.append(defs)
    best15.append(mid)
    best15.append(fwd)
    return best15


# Picks the top 15 players( 2 gk, 5 def, 5 mid, 3 fwd ) you can have in your team under the budget of 100 pounds
def bestPossibleTeam( gw ):
    gk = combine_dfs( gk_pred, gk_X_test, price_df, gw, 'gk', gk_test_name_mapping, gk_test_name_mapping_reverse )
    defs = combine_dfs( def_pred, def_X_test, price_df, gw, 'def', def_test_name_mapping, def_test_name_mapping_reverse )
    mid = combine_dfs( mid_pred, mid_X_test, price_df, gw, 'mid', mid_test_name_mapping, mid_test_name_mapping_reverse )
    fwd = combine_dfs( fwd_pred, fwd_X_test, price_df, gw, 'fwd', fwd_test_name_mapping, fwd_test_name_mapping_reverse )

    gk_df = gk[['value', 'name', 'points', 'position']]
    def_df = defs[['value', 'name', 'points', 'position']]
    mid_df = mid[['value', 'name', 'points', 'position']]
    fwd_df = fwd[['value', 'name', 'points', 'position']]
    
    return combination( gk_df, def_df, mid_df, fwd_df, gk_test_name_mapping, def_test_name_mapping, mid_test_name_mapping, fwd_test_name_mapping, 100 )


# Picks the best possible starting eleven given the 15 players chosen for the team
def startingXI( best15 ):
    starting11 = []
    bench4 = []
    # Find starting gk
    starting11.append( best15[0][0] )
    gk =  best15[0][1]

    # Top 3 defenders
    starting11.append( best15[1][0] )
    starting11.append( best15[1][1] )
    starting11.append( best15[1][2] )
    bench4.append( best15[1][3] )
    bench4.append( best15[1][4] )

    # Top 2 mids
    starting11.append( best15[2][0] )
    starting11.append( best15[2][1] )
    bench4.append( best15[2][2] )
    bench4.append( best15[2][3] )
    bench4.append( best15[2][4] )

    # Top Forward
    starting11.append( best15[3][0] )
    bench4.append( best15[3][1] )
    bench4.append( best15[3][2] )

    # Next 4 highest players
    bench_sorted = sorted(bench4, key=lambda x: x[2], reverse=True)
    top4 = bench_sorted[:4]
    for player in top4:
        starting11.append( player )
        bench4.remove( player )
    bench4.append(gk)
    return starting11, bench4


# Return value of squad
def squadValue( squad ):
    value = 0
    for position in squad:
        for player in position:
            # print( player[3] )
            value += player[0]
    return value


# Return total predicted points for squad
def totalPoints( squad ):
    total_points = 0
    for player in squad:
        total_points += player[2]
    return total_points





# Create dataframe with players name and predicted points for gw 38
def prev_season_data( pos_pred, pos_X, name_mapping ):
    pred_df = pd.DataFrame( pos_pred, columns=['points'] )
    combined_df = pd.concat( [pos_X, pred_df], axis=1 )
    temp_df = combined_df[ combined_df['GW'] == 38 ]
    df2 = temp_df[ ['name','points'] ]
    df2['name'] = df2['name'].map(name_mapping)
    return df2


# Create one dataframe with players' names & predicted points
gk2_df = prev_season_data( gk2_pred, gk2_X, gk2_name_mapping )
def2_df = prev_season_data( def2_pred, def2_X, def2_name_mapping )
mid2_df = prev_season_data( mid2_pred, mid2_X, mid2_name_mapping )
fwd2_df = prev_season_data( fwd2_pred, fwd2_X, fwd2_name_mapping )
prev_df = pd.concat( [ gk2_df, def2_df, mid2_df, fwd2_df ], ignore_index = True )


# Return list of names from the current season to eliminate players who transferred out of the league
def name_list( pos_X_test, name_mapping, pos ):
    current_season = pos_X_test[pos_X_test['GW'] == 1]
    current_season['name'] = current_season['name'].map(name_mapping)
    current_season_list = current_season[['name']]
    current_season_list['position'] = pos
    return current_season_list


# Create one list of all names from current season
current_season_gk_list = name_list( gk_X_test, gk_test_name_mapping, 'gk' )
current_season_def_list = name_list( def_X_test, def_test_name_mapping, 'def' )
current_season_mid_list = name_list( mid_X_test, mid_test_name_mapping, 'mid' )
current_season_fwd_list = name_list( fwd_X_test, fwd_test_name_mapping, 'fwd' )
player_list = pd.concat( [ current_season_gk_list, current_season_def_list, current_season_mid_list, current_season_fwd_list ], ignore_index = True )


gw_1_price = price_df[price_df['GW'] == 1]
gw_1_price = gw_1_price.drop( ['GW','position'], axis=1 )


player_list = pd.merge( player_list, gw_1_price, on='name', how='left' )


# Create dataframe with players from previous season who are in the current season
prev_points = pd.merge( player_list, prev_df, on='name', how='left')
prev_points['points'] = prev_points['points'].fillna(0)


prev_points_gk = prev_points[prev_points['position'] == 'gk']
prev_points_def = prev_points[prev_points['position'] == 'def']
prev_points_mid = prev_points[prev_points['position'] == 'mid']
prev_points_fwd = prev_points[prev_points['position'] == 'fwd']

prev_points_gk = prev_points_gk[['value', 'name', 'points', 'position']]
prev_points_def = prev_points_def[['value', 'name', 'points', 'position']]
prev_points_mid = prev_points_mid[['value', 'name', 'points', 'position']]
prev_points_fwd = prev_points_fwd[['value', 'name', 'points', 'position']]

prev_points_gk = prev_points_gk.sort_values( by='points', ascending=False )
prev_points_def = prev_points_def.sort_values( by='points', ascending=False )
prev_points_mid = prev_points_mid.sort_values( by='points', ascending=False )
prev_points_fwd = prev_points_fwd.sort_values( by='points', ascending=False )

# Dropping players who were selected but transferred to another league
drop_index = prev_points_fwd[prev_points_fwd['name'] == 'Harry Kane'].index
prev_points_fwd = prev_points_fwd.drop( drop_index )
drop_index = prev_points_mid[prev_points_mid['name'] == 'Granit Xhaka'].index
prev_points_mid = prev_points_mid.drop( drop_index )


# Pick the initial team of 15 players
position_requirements = { 'gk':2, 'def':5, 'mid':5, 'fwd':3 }
position_filled = { 'gk':0, 'def':0, 'mid':0, 'fwd':0 }
iss = []
total_cost = 60
gk, fwd, mid, defs = 0, 1, 2, 3
df = pd.concat( [ prev_points_gk, prev_points_def, prev_points_mid, prev_points_fwd ] )

i = 1
for index, row in df.iterrows():
    pos = row['position']
    if i % 4 == 1:
        i += 1
        if pos == 'fwd' and position_filled[pos] < position_requirements[pos] and total_cost + ( row['value'] - 4 ) <= 100:
            position_filled[pos] += 1
            total_cost += row['value'] - 4
            iss.append(row)
    elif i % 4 == 2:
        i += 1
        if pos == 'mid' and position_filled[pos] < position_requirements[pos] and total_cost + ( row['value'] - 4 ) <= 100:
            position_filled[pos] += 1
            total_cost += row['value'] - 4
            iss.append(row)
    elif i % 4 == 3:
        i += 1
        if pos == 'def' and position_filled[pos] < position_requirements[pos] and total_cost + ( row['value'] - 4 ) <= 100:
            position_filled[pos] += 1
            total_cost += row['value'] - 4
            iss.append(row)
    elif i % 4 == 0:
        i += 1
        if pos == 'gk' and position_filled[pos] < position_requirements[pos] and total_cost + ( row['value'] - 4 ) <= 100:
            position_filled[pos] += 1
            total_cost += row['value'] - 4
            iss.append(row)

gk = []
mid = []
defs = []
fwd = []

init_squad = []
# convert numerical codes to names
for elem in iss:
    list = []
    for item in elem:
        list.append(item)
    if elem['position'] == 'gk':
         # list[1] = gk_map[list[1]]
         gk.append(list)
    elif elem['position'] == 'def':
        # list[1] = def_map[list[1]]
        defs.append(list)
    elif elem['position'] == 'mid':
       # list[1] = mid_map[list[1]]
       mid.append(list)
    else:
        # list[1] = fwd_map[list[1]]
        fwd.append(list)
init_squad.append(gk)
init_squad.append(defs)
init_squad.append(mid)
init_squad.append(fwd)


init_starters, init_bench = startingXI( init_squad )
init_starters = sorted( init_starters, key=lambda x: ('gk', 'def', 'mid', 'fwd').index(x[3])  )    
init_bench = sorted( init_bench, key=lambda x: x[2], reverse=True )


# Print best predicted team for each gameweek, recommended starting XI, and squad value
# Test with players from last season
print( "\nGameweek 1\n----------------------------")
print( "\nStarting XI:\n----------------------" )
pprint( init_starters )
print( "\nBench\n-----------------------")
pprint( init_bench )

for week in range( 2, 37 ):
    print( "\nGameweek ", week, '\n----------------------------')
    squad = bestPossibleTeam(week)
    value = squadValue( squad )
    value = round( value, 1 )
    # starting11, bench4 = [],[]
    starters, bench = startingXI( squad )
    team_points = totalPoints( starters )
    print( "\nStarting XI:\n----------------------" )
    starters = sorted( starters, key=lambda x: ('gk', 'def', 'mid', 'fwd').index(x[3])  )    
    bench = sorted( bench, key=lambda x: x[2], reverse=True)
    for player in starters:
        print( player )
    print( "\nBench\n----------------------- " )
    for player in bench:
        print( player )
    print( '\nTotal predicted points: ', team_points )
    print( '\nSquad value: ', value )
