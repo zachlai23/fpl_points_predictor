import pandas as pd 
from sklearn.ensemble import RandomForestRegressor 
from sklearn.metrics import mean_squared_error, mean_absolute_error, r2_score 
from pprint import pprint
import matplotlib.pyplot as plt
import heapq
from collections import defaultdict
pd.set_option('future.no_silent_downcasting', True)
pd.options.mode.chained_assignment = None  # default='warn'








df2 = pd.read_csv('/Users/zacharylai/Desktop/fpl_points_predictor/datasets/mergedGW/20:21mergedGW.csv')
df3 = pd.read_csv('/Users/zacharylai/Desktop/fpl_points_predictor/datasets/mergedGW/21:22mergedGW.csv')
df4 = pd.read_csv('/Users/zacharylai/Desktop/fpl_points_predictor/datasets/mergedGW/22:23mergedGW.csv')
test_df = pd.read_csv('/Users/zacharylai/Desktop/fpl_points_predictor/datasets/mergedGW/23:24mergedGW.csv')

df2 = df2.sort_values( by=['name', 'GW'] ).reset_index( drop=True )
df3 = df3.sort_values( by=['name', 'GW'] ).reset_index( drop=True )
df4 = df4.sort_values( by=['name', 'GW'] ).reset_index( drop=True )
test_df = test_df.sort_values( by=['name', 'GW'] ).reset_index( drop=True )


# Combine data from 20/21, 21/22, 22/23 seasons for the training set
dataframes = [ df2, df3, df4 ]
df = pd.concat( dataframes, ignore_index = True )


# Sort by positions for training set
gk_df = df[df['position'] == 'GK']
def_df = df[df['position'] == 'DEF']
mid_df = df[df['position'] == 'MID']
fwd_df = df[df['position'] == 'FWD']


# Sort by positions for test set
gk_test_df = test_df[test_df['position'] == 'GK']
def_test_df = test_df[test_df['position'] == 'DEF']
mid_test_df = test_df[test_df['position'] == 'MID']
fwd_test_df = test_df[test_df['position'] == 'FWD']


# dataset including price for each player only for 2023/2024 season
# During a current season, would have to update this weekly with new prices
price_df = pd.read_csv('/Users/zacharylai/Desktop/fpl_points_predictor/datasets/cleaned_players23:24.csv')
price_df['name'] = price_df['first_name'] + " " + price_df['second_name']
price_df = price_df.drop(['first_name','second_name','goals_scored','assists','minutes','goals_conceded','creativity','influence','threat','bonus','bps','ict_index','clean_sheets','red_cards','yellow_cards','selected_by_percent','total_points'],axis=1)
price_df['now_cost'] = price_df['now_cost']/10








gk_df = pd.read_csv('/Users/zacharylai/Desktop/fpl_points_predictor/datasets/position_sorted/goalkeepers.csv')
gk_test_df = pd.read_csv('/Users/zacharylai/Desktop/fpl_points_predictor/datasets/position_sorted/goalkeepers_test.csv')


gk_df['avg_saves'] = gk_df.groupby('name')['saves'].expanding().mean().shift(1).reset_index(level=0, drop=True)
gk_df['avg_ict'] = gk_df.groupby('name')['ict_index'].expanding().mean().shift(1).reset_index(level=0, drop=True)
gk_df['avg_pen_saves'] = gk_df.groupby('name')['penalties_saved'].expanding().mean().shift(1).reset_index(level=0, drop=True)
gk_df['avg_goals_conceded'] = gk_df.groupby('name')['goals_conceded'].expanding().mean().shift(1).reset_index(level=0, drop=True)
gk_df['avg_xP'] = gk_df.groupby('name')['xP'].expanding().mean().shift(1).reset_index(level=0, drop=True)
gk_df['avg_cs'] = gk_df.groupby('name')['clean_sheets'].expanding().mean().shift(1).reset_index(level=0, drop=True)
gk_df['avg_bps'] = gk_df.groupby('name')['bps'].expanding().mean().shift(1).reset_index(level=0, drop=True)
gk_df['avg_mins'] = gk_df.groupby('name')['minutes'].expanding().mean().shift(1).reset_index(level=0, drop=True)
gk_df['avg_x_goals_conceded'] = gk_df.groupby('name')['expected_goals_conceded'].expanding().mean().shift(1).reset_index(level=0, drop=True)

gk_df['total_pen_saves'] = gk_df.groupby('name')['penalties_saved'].cumsum().shift(1).fillna(0)
gk_df['total_cs'] = gk_df.groupby('name')['clean_sheets'].cumsum().shift(1).fillna(0)
gk_df['total_starts'] = gk_df.groupby('name')['starts'].cumsum().shift(1).fillna(0)


# Create a mapping from player names to categorical codes
gk_df['name'] = gk_df['name'].astype('category')
gk_name_mapping = dict(enumerate( gk_df['name'].cat.categories ) )
gk_name_mapping_reverse = { v: k for k, v in gk_name_mapping.items() }
gk_df['name'] = gk_df['name'].cat.codes

gk_df['team'] = gk_df['team'].astype('category')
gk_df['team'] = gk_df['team'].cat.codes

gk_df['was_home'] = gk_df['was_home'].astype('category')
gk_df['was_home'] = gk_df['was_home'].cat.codes

gk_df = gk_df.fillna(0)

gk_df = gk_df.drop(['position','total_pen_saves','was_home','team','expected_goals_conceded','penalties_saved','bonus','own_goals','minutes','saves','kickoff_time','team_a_score','team_h_score','expected_assists','expected_goal_involvements','expected_goals','transfers_in','transfers_out','transfers_balance','fixture','assists','goals_scored','ict_index','influence','creativity','threat','penalties_missed','selected','goals_conceded','xP','clean_sheets','element','round','red_cards','yellow_cards','starts','bps','total_pen_saves','total_cs'],axis=1)



gk_y_train = gk_df['total_points']
gk_X_train = gk_df.drop( ['total_points'], axis=1 )





gk_test_df['avg_saves'] = gk_test_df.groupby('name')['saves'].expanding().mean().shift(1).reset_index(level=0, drop=True)
gk_test_df['avg_ict'] = gk_test_df.groupby('name')['ict_index'].expanding().mean().shift(1).reset_index(level=0, drop=True)
gk_test_df['avg_pen_saves'] = gk_test_df.groupby('name')['penalties_saved'].expanding().mean().shift(1).reset_index(level=0, drop=True)
gk_test_df['avg_goals_conceded'] = gk_test_df.groupby('name')['goals_conceded'].expanding().mean().shift(1).reset_index(level=0, drop=True)
gk_test_df['avg_xP'] = gk_test_df.groupby('name')['xP'].expanding().mean().shift(1).reset_index(level=0, drop=True)
gk_test_df['avg_cs'] = gk_test_df.groupby('name')['clean_sheets'].expanding().mean().shift(1).reset_index(level=0, drop=True)
gk_test_df['avg_bps'] = gk_test_df.groupby('name')['bps'].expanding().mean().shift(1).reset_index(level=0, drop=True)
gk_test_df['avg_mins'] = gk_test_df.groupby('name')['minutes'].expanding().mean().shift(1).reset_index(level=0, drop=True)
gk_test_df['avg_x_goals_conceded'] = gk_test_df.groupby('name')['expected_goals_conceded'].expanding().mean().shift(1).reset_index(level=0, drop=True)

gk_test_df['total_pen_saves'] = gk_test_df.groupby('name')['penalties_saved'].cumsum().shift(1).fillna(0)
gk_test_df['total_cs'] = gk_test_df.groupby('name')['clean_sheets'].cumsum().shift(1).fillna(0)
gk_test_df['total_starts'] = gk_test_df.groupby('name')['starts'].cumsum().shift(1).fillna(0)


# Create a mapping from player names to categorical codes
gk_test_df['name'] = gk_test_df['name'].astype('category')
gk_test_name_mapping = dict( enumerate( gk_test_df['name'].cat.categories ) )
gk_test_name_mapping_reverse = { v: k for k, v in gk_test_name_mapping.items() }
gk_test_df['name'] = gk_test_df['name'].cat.codes

gk_test_df['team'] = gk_test_df['team'].astype('category')
gk_test_df['team'] = gk_test_df['team'].cat.codes

gk_test_df['was_home'] = gk_test_df['was_home'].astype('category')
gk_test_df['was_home'] = gk_test_df['was_home'].cat.codes

gk_test_df = gk_test_df.fillna(0)

gk_test_df = gk_test_df.drop(['position','total_pen_saves','was_home','team','expected_goals_conceded','penalties_saved','bonus','own_goals','minutes','saves','kickoff_time','team_a_score','team_h_score','expected_assists','expected_goal_involvements','expected_goals','transfers_in','transfers_out','transfers_balance','fixture','assists','goals_scored','ict_index','influence','creativity','threat','penalties_missed','selected','goals_conceded','xP','clean_sheets','element','round','red_cards','yellow_cards','starts','bps','total_pen_saves','total_cs'],axis=1)



gk_y_test = gk_test_df['total_points']
gk_X_test = gk_test_df.drop(['total_points'],axis=1)





rf = RandomForestRegressor( max_depth=4,max_features= 15,n_estimators= 500,random_state=13 ) # max depth helps avoid overfitting, max features helps accuracy
rf.fit( gk_X_train, gk_y_train )


train_pred = rf.predict( gk_X_train )

gk_pred = rf.predict( gk_X_test )


print( 'mean squared error: ', mean_squared_error( gk_y_test, gk_pred ) )
print( 'mean absolute error: ', mean_absolute_error( gk_y_test, gk_pred ) )
print( 'r2 score: ', r2_score( gk_y_test, gk_pred ) )

print( '-------------------------------------' )

print( 'train mean_squared_error : ', mean_squared_error( gk_y_train, train_pred ) ) 
print( 'train mean_absolute_error : ', mean_absolute_error( gk_y_train, train_pred ) ) 
print( 'r2 score: ', r2_score( gk_y_train, train_pred ) )


# Plot predicted vs. actual values
plt.figure( figsize = ( 8, 8 ) )
plt.scatter( gk_y_test, gk_pred, color='blue' )
plt.plot( 0, 10, 0, 10, color='red', linestyle='--' )
plt.xlabel( 'Actual Values' )
plt.ylabel( 'Predicted Values' )
plt.title( 'Random Forest Predicted vs. Actual Values' )
plt.grid( True )
plt.show()





def_df = pd.read_csv('/Users/zacharylai/Desktop/fpl_points_predictor/datasets/position_sorted/defenders.csv')
def_test_df = pd.read_csv('/Users/zacharylai/Desktop/fpl_points_predictor/datasets/position_sorted/defenders_test.csv')





def_df['avg_ict'] = def_df.groupby('name')['ict_index'].expanding().mean().shift(1).fillna(0).reset_index(level=0, drop=True)
def_df['avg_bps'] = def_df.groupby('name')['bps'].expanding().mean().shift(1).fillna(0).reset_index(level=0, drop=True)
def_df['avg_xP'] = def_df.groupby('name')['xP'].expanding().mean().shift(1).fillna(0).reset_index(level=0, drop=True)
def_df['avg_xA'] = def_df.groupby('name')['expected_assists'].expanding().mean().shift(1).fillna(0).reset_index(level=0, drop=True)
def_df['avg_xGI'] = def_df.groupby('name')['expected_goal_involvements'].expanding().mean().shift(1).fillna(0).reset_index(level=0, drop=True)
def_df['avg_xGC'] = def_df.groupby('name')['expected_goals_conceded'].expanding().mean().shift(1).fillna(0).reset_index(level=0, drop=True)
def_df['avg_GC'] = def_df.groupby('name')['goals_conceded'].expanding().mean().shift(1).fillna(0).reset_index(level=0, drop=True)
def_df['avg_mins'] = def_df.groupby('name')['minutes'].expanding().mean().shift(1).fillna(0).reset_index(level=0, drop=True)


def_df['total_assists'] = def_df.groupby('name')['assists'].cumsum().shift(1).fillna(0)
def_df['total_goals'] = def_df.groupby('name')['goals_scored'].cumsum().shift(1).fillna(0)
def_df['total_cs'] = def_df.groupby('name')['clean_sheets'].cumsum().shift(1).fillna(0)
def_df['total_starts'] = def_df.groupby('name')['starts'].cumsum().shift(1).fillna(0)


def_df = def_df.drop(['position','team','starts','minutes','goals_conceded','red_cards','team_a_score','team_h_score','yellow_cards','element','assists','goals_scored','clean_sheets','penalties_missed','penalties_saved','influence','threat','round','saves','selected','threat','kickoff_time','own_goals','fixture','creativity','transfers_balance','transfers_in','transfers_out','value','ict_index','bps','bonus','xP','expected_assists','expected_goals','expected_goal_involvements','expected_goals_conceded'],axis=1)


# Create a mapping from player names to categorical codes
def_df['name'] = def_df['name'].astype('category')
def_name_mapping = dict( enumerate( def_df['name'].cat.categories) )
def_name_mapping_reverse = { v: k for k, v in def_name_mapping.items() }
def_df['name'] = def_df['name'].cat.codes

def_df['was_home'] = def_df['was_home'].astype('category')
def_df['was_home'] = def_df['was_home'].cat.codes


def_y_train = def_df['total_points']
def_X_train = def_df.drop( ['total_points'], axis=1 )





def_test_df['avg_ict'] = def_test_df.groupby('name')['ict_index'].expanding().mean().shift(1).fillna(0).reset_index(level=0, drop=True)
def_test_df['avg_bps'] = def_test_df.groupby('name')['bps'].expanding().mean().shift(1).fillna(0).reset_index(level=0, drop=True)
def_test_df['avg_xP'] = def_test_df.groupby('name')['xP'].expanding().mean().shift(1).fillna(0).reset_index(level=0, drop=True)
def_test_df['avg_xA'] = def_test_df.groupby('name')['expected_assists'].expanding().mean().shift(1).fillna(0).reset_index(level=0, drop=True)
def_test_df['avg_xGI'] = def_test_df.groupby('name')['expected_goal_involvements'].expanding().mean().shift(1).fillna(0).reset_index(level=0, drop=True)
def_test_df['avg_xGC'] = def_test_df.groupby('name')['expected_goals_conceded'].expanding().mean().shift(1).fillna(0).reset_index(level=0, drop=True)
def_test_df['avg_GC'] = def_test_df.groupby('name')['goals_conceded'].expanding().mean().shift(1).fillna(0).reset_index(level=0, drop=True)
def_test_df['avg_mins'] = def_test_df.groupby('name')['minutes'].expanding().mean().shift(1).fillna(0).reset_index(level=0, drop=True)


def_test_df['total_assists'] = def_test_df.groupby('name')['assists'].cumsum().shift(1).fillna(0)
def_test_df['total_goals'] = def_test_df.groupby('name')['goals_scored'].cumsum().shift(1).fillna(0)
def_test_df['total_cs'] = def_test_df.groupby('name')['clean_sheets'].cumsum().shift(1).fillna(0)
def_test_df['total_starts'] = def_test_df.groupby('name')['starts'].cumsum().shift(1).fillna(0)


def_test_df = def_test_df.drop(['position','team','starts','minutes','goals_conceded','red_cards','team_a_score','team_h_score','yellow_cards','element','assists','goals_scored','clean_sheets','penalties_missed','penalties_saved','influence','threat','round','saves','selected','threat','kickoff_time','own_goals','fixture','creativity','transfers_balance','transfers_in','transfers_out','value','ict_index','bps','bonus','xP','expected_assists','expected_goals','expected_goal_involvements','expected_goals_conceded'],axis=1)


# Create a mapping from player names to categorical codes
def_test_df['name'] = def_test_df['name'].astype('category')
def_test_name_mapping = dict( enumerate( def_test_df['name'].cat.categories ) )
def_test_name_mapping_reverse = { v: k for k, v in def_test_name_mapping.items() }
def_test_df['name'] = def_test_df['name'].cat.codes

def_test_df['was_home'] = def_test_df['was_home'].astype('category')
def_test_df['was_home'] = def_test_df['was_home'].cat.codes


def_y_test = def_test_df['total_points']
def_X_test = def_test_df.drop( ['total_points'], axis=1 )





def_rf = RandomForestRegressor( max_depth=4,max_features= 5,n_estimators= 500,random_state=13 )
def_rf.fit( def_X_train, def_y_train )


train_pred = def_rf.predict( def_X_train )

def_pred = def_rf.predict( def_X_test )


print( 'mean squared error: ', mean_squared_error( def_y_test, def_pred ) )
print( 'mean absolute error: ', mean_absolute_error( def_y_test, def_pred ) )
print( 'r2 score: ', r2_score( def_y_test, def_pred ) )

print( '-------------------------------------' )

print( 'train mean_squared_error : ', mean_squared_error( def_y_train, train_pred ) ) 
print( 'train mean_absolute_error : ', mean_absolute_error( def_y_train, train_pred ) ) 
print( 'r2 score: ', r2_score( def_y_train, train_pred ) )


# Plot predicted vs. actual values
plt.figure( figsize = ( 8, 8 ) )
plt.scatter( def_y_test, def_pred, color='blue' )
plt.plot( 0, 10, 0, 10, color='red', linestyle='--' )
plt.xlabel( 'Actual Values' )
plt.ylabel( 'Predicted Values' )
plt.title( 'Random Forest Predicted vs. Actual Values' )
plt.grid( True )
plt.show()





mid_df = pd.read_csv('/Users/zacharylai/Desktop/fpl_points_predictor/datasets/position_sorted/midfielders.csv')
mid_test_df = pd.read_csv('/Users/zacharylai/Desktop/fpl_points_predictor/datasets/position_sorted/midfielders_test.csv')





mid_df['avg_ict'] = mid_df.groupby('name')['ict_index'].expanding().mean().shift(1).fillna(0).reset_index(level=0, drop=True)
mid_df['avg_assists'] = mid_df.groupby('name')['assists'].expanding().mean().shift(1).fillna(0).reset_index(level=0, drop=True)
mid_df['avg_goals'] = mid_df.groupby('name')['goals_scored'].expanding().mean().shift(1).fillna(0).reset_index(level=0, drop=True)
mid_df['avg_bps'] = mid_df.groupby('name')['bps'].expanding().mean().shift(1).fillna(0).reset_index(level=0, drop=True)
mid_df['avg_xP'] = mid_df.groupby('name')['xP'].expanding().mean().shift(1).fillna(0).reset_index(level=0, drop=True)
mid_df['avg_xA'] = mid_df.groupby('name')['expected_assists'].expanding().mean().shift(1).fillna(0).reset_index(level=0, drop=True)
mid_df['avg_xG'] = mid_df.groupby('name')['expected_goals'].expanding().mean().shift(1).fillna(0).reset_index(level=0, drop=True)
mid_df['avg_xGI'] = mid_df.groupby('name')['expected_goal_involvements'].expanding().mean().shift(1).fillna(0).reset_index(level=0, drop=True)
mid_df['avg_xGC'] = mid_df.groupby('name')['expected_goals_conceded'].expanding().mean().shift(1).fillna(0).reset_index(level=0, drop=True)
mid_df['avg_GC'] = mid_df.groupby('name')['goals_conceded'].expanding().mean().shift(1).fillna(0).reset_index(level=0, drop=True)
mid_df['avg_mins'] = mid_df.groupby('name')['minutes'].expanding().mean().shift(1).fillna(0).reset_index(level=0, drop=True)


mid_df['total_assists'] = mid_df.groupby('name')['assists'].cumsum().shift(1).fillna(0)
mid_df['total_goals'] = mid_df.groupby('name')['goals_scored'].cumsum().shift(1).fillna(0)
mid_df['total_cs'] = mid_df.groupby('name')['clean_sheets'].cumsum().shift(1).fillna(0)
mid_df['total_starts'] = mid_df.groupby('name')['starts'].cumsum().shift(1).fillna(0)


# Create a mapping from player names to categorical codes
mid_df['name'] = mid_df['name'].astype('category')
mid_name_mapping = dict( enumerate( mid_df['name'].cat.categories ) )
mmid_name_mapping_reverse = { v: k for k, v in mid_name_mapping.items() }
mid_df['name'] = mid_df['name'].cat.codes

mid_df['was_home'] = mid_df['was_home'].astype('category')
mid_df['was_home'] = mid_df['was_home'].cat.codes


mid_df = mid_df.drop(['position','team','value','transfers_balance','bonus','own_goals','saves','team_a_score','team_h_score','red_cards','yellow_cards','transfers_in','transfers_out','penalties_missed','penalties_saved','clean_sheets','creativity','influence','threat','kickoff_time','fixture','round','element','starts','selected','ict_index','assists','avg_assists','goals_scored','avg_goals','bps','xP','expected_assists','expected_goals','expected_goal_involvements','expected_goals_conceded','goals_conceded','minutes'],axis=1)


mid_y_train = mid_df['total_points']
mid_X_train = mid_df.drop( ['total_points'], axis=1 )





mid_test_df['avg_ict'] = mid_test_df.groupby('name')['ict_index'].expanding().mean().shift(1).fillna(0).reset_index(level=0, drop=True)
mid_test_df['avg_assists'] = mid_test_df.groupby('name')['assists'].expanding().mean().shift(1).fillna(0).reset_index(level=0, drop=True)
mid_test_df['avg_goals'] = mid_test_df.groupby('name')['goals_scored'].expanding().mean().shift(1).fillna(0).reset_index(level=0, drop=True)
mid_test_df['avg_bps'] = mid_test_df.groupby('name')['bps'].expanding().mean().shift(1).fillna(0).reset_index(level=0, drop=True)
mid_test_df['avg_xP'] = mid_test_df.groupby('name')['xP'].expanding().mean().shift(1).fillna(0).reset_index(level=0, drop=True)
mid_test_df['avg_xA'] = mid_test_df.groupby('name')['expected_assists'].expanding().mean().shift(1).fillna(0).reset_index(level=0, drop=True)
mid_test_df['avg_xG'] = mid_test_df.groupby('name')['expected_goals'].expanding().mean().shift(1).fillna(0).reset_index(level=0, drop=True)
mid_test_df['avg_xGI'] = mid_test_df.groupby('name')['expected_goal_involvements'].expanding().mean().shift(1).fillna(0).reset_index(level=0, drop=True)
mid_test_df['avg_xGC'] = mid_test_df.groupby('name')['expected_goals_conceded'].expanding().mean().shift(1).fillna(0).reset_index(level=0, drop=True)
mid_test_df['avg_GC'] = mid_test_df.groupby('name')['goals_conceded'].expanding().mean().shift(1).fillna(0).reset_index(level=0, drop=True)
mid_test_df['avg_mins'] = mid_test_df.groupby('name')['minutes'].expanding().mean().shift(1).fillna(0).reset_index(level=0, drop=True)


mid_test_df['total_assists'] = mid_test_df.groupby('name')['assists'].cumsum().shift(1).fillna(0)
mid_test_df['total_goals'] = mid_test_df.groupby('name')['goals_scored'].cumsum().shift(1).fillna(0)
mid_test_df['total_cs'] = mid_test_df.groupby('name')['clean_sheets'].cumsum().shift(1).fillna(0)
mid_test_df['total_starts'] = mid_test_df.groupby('name')['starts'].cumsum().shift(1).fillna(0)


# Create a mapping from player names to categorical codes
mid_test_df['name'] = mid_test_df['name'].astype('category')
mid_test_name_mapping = dict(enumerate(mid_test_df['name'].cat.categories))
mid_test_name_mapping_reverse = { v: k for k, v in mid_test_name_mapping.items() }
mid_test_df['name'] = mid_test_df['name'].cat.codes

mid_test_df['was_home'] = mid_test_df['was_home'].astype('category')
mid_test_df['was_home'] = mid_test_df['was_home'].cat.codes


mid_test_df = mid_test_df.drop(['position','team','value','transfers_balance','bonus','own_goals','saves','team_a_score','team_h_score','red_cards','yellow_cards','transfers_in','transfers_out','penalties_missed','penalties_saved','clean_sheets','creativity','influence','threat','kickoff_time','fixture','round','element','starts','selected','ict_index','assists','avg_assists','goals_scored','avg_goals','bps','xP','expected_assists','expected_goals','expected_goal_involvements','expected_goals_conceded','goals_conceded','minutes'],axis=1)


mid_y_test = mid_test_df['total_points']
mid_X_test = mid_test_df.drop( ['total_points'], axis=1 )





mid_rf = RandomForestRegressor( max_depth=4,max_features= 10,n_estimators= 100,random_state=13 )
mid_rf.fit( mid_X_train, mid_y_train )


train_pred = mid_rf.predict( mid_X_train )
mid_pred = mid_rf.predict( mid_X_test )


print( 'mean squared error: ', mean_squared_error( mid_y_test, mid_pred ) )
print( 'mean absolute error: ', mean_absolute_error( mid_y_test, mid_pred ) )
print( 'r2 score: ', r2_score( mid_y_test, mid_pred ) )

print( '-------------------------------------' )

print( 'train mean_squared_error : ', mean_squared_error( mid_y_train, train_pred ) ) 
print( 'train mean_absolute_error : ', mean_absolute_error( mid_y_train, train_pred ) ) 
print( 'r2 score: ', r2_score( mid_y_train, train_pred ) )


# Plot predicted vs. actual values
plt.figure( figsize = ( 8, 8 ) )
plt.scatter( mid_y_test, mid_pred, color='blue' )
plt.plot( 0, 10, 0, 10, color='red', linestyle='--' )
plt.xlabel( 'Actual Values' )
plt.ylabel( 'Predicted Values' )
plt.title( 'Random Forest Predicted vs. Actual Values' )
plt.grid( True )
plt.show()





fwd_df = pd.read_csv('/Users/zacharylai/Desktop/fpl_points_predictor/datasets/position_sorted/forwards.csv')
fwd_test_df = pd.read_csv('/Users/zacharylai/Desktop/fpl_points_predictor/datasets/position_sorted/forwards_test.csv')





fwd_df['avg_ict'] = fwd_df.groupby('name')['ict_index'].expanding().mean().shift(1).fillna(0).reset_index(level=0, drop=True)
fwd_df['avg_assists'] = fwd_df.groupby('name')['assists'].expanding().mean().shift(1).fillna(0).reset_index(level=0, drop=True)
fwd_df['avg_goals'] = fwd_df.groupby('name')['goals_scored'].expanding().mean().shift(1).fillna(0).reset_index(level=0, drop=True)
fwd_df['avg_bps'] = fwd_df.groupby('name')['bps'].expanding().mean().shift(1).fillna(0).reset_index(level=0, drop=True)
fwd_df['avg_xP'] = fwd_df.groupby('name')['xP'].expanding().mean().shift(1).fillna(0).reset_index(level=0, drop=True)
fwd_df['avg_xA'] = fwd_df.groupby('name')['expected_assists'].expanding().mean().shift(1).fillna(0).reset_index(level=0, drop=True)
fwd_df['avg_xG'] = fwd_df.groupby('name')['expected_goals'].expanding().mean().shift(1).fillna(0).reset_index(level=0, drop=True)
fwd_df['avg_xGI'] = fwd_df.groupby('name')['expected_goal_involvements'].expanding().mean().shift(1).fillna(0).reset_index(level=0, drop=True)
fwd_df['avg_mins'] = fwd_df.groupby('name')['minutes'].expanding().mean().shift(1).fillna(0).reset_index(level=0, drop=True)


fwd_df['total_assists'] = fwd_df.groupby('name')['assists'].cumsum().shift(1).fillna(0)
fwd_df['total_goals'] = fwd_df.groupby('name')['goals_scored'].cumsum().shift(1).fillna(0)
fwd_df['total_starts'] = fwd_df.groupby('name')['starts'].cumsum().shift(1).fillna(0)


# Create a mapping from player names to categorical codes
fwd_df['name'] = fwd_df['name'].astype('category')
fwd_name_mapping = dict( enumerate( fwd_df['name'].cat.categories ) )
fwd_name_mapping_reverse = { v: k for k, v in fwd_name_mapping.items() }
fwd_df['name'] = fwd_df['name'].cat.codes

fwd_df['was_home'] = fwd_df['was_home'].astype('category')
fwd_df['was_home'] = fwd_df['was_home'].cat.codes


fwd_df = fwd_df.drop(['position','team','value','transfers_balance','bonus','own_goals','saves','team_a_score','team_h_score','red_cards','yellow_cards','transfers_in','transfers_out','penalties_missed','penalties_saved','clean_sheets','creativity','influence','threat','kickoff_time','fixture','round','element','starts','selected','ict_index','assists','avg_assists','goals_scored','avg_goals','bps','xP','expected_assists','expected_goals','expected_goal_involvements','expected_goals_conceded','goals_conceded','minutes'],axis=1)


fwd_y_train = fwd_df['total_points']
fwd_X_train = fwd_df.drop( ['total_points'], axis=1 )





fwd_test_df['avg_ict'] = fwd_test_df.groupby('name')['ict_index'].expanding().mean().shift(1).fillna(0).reset_index(level=0, drop=True)
fwd_test_df['avg_assists'] = fwd_test_df.groupby('name')['assists'].expanding().mean().shift(1).fillna(0).reset_index(level=0, drop=True)
fwd_test_df['avg_goals'] = fwd_test_df.groupby('name')['goals_scored'].expanding().mean().shift(1).fillna(0).reset_index(level=0, drop=True)
fwd_test_df['avg_bps'] = fwd_test_df.groupby('name')['bps'].expanding().mean().shift(1).fillna(0).reset_index(level=0, drop=True)
fwd_test_df['avg_xP'] = fwd_test_df.groupby('name')['xP'].expanding().mean().shift(1).fillna(0).reset_index(level=0, drop=True)
fwd_test_df['avg_xA'] = fwd_test_df.groupby('name')['expected_assists'].expanding().mean().shift(1).fillna(0).reset_index(level=0, drop=True)
fwd_test_df['avg_xG'] = fwd_test_df.groupby('name')['expected_goals'].expanding().mean().shift(1).fillna(0).reset_index(level=0, drop=True)
fwd_test_df['avg_xGI'] = fwd_test_df.groupby('name')['expected_goal_involvements'].expanding().mean().shift(1).fillna(0).reset_index(level=0, drop=True)
fwd_test_df['avg_mins'] = fwd_test_df.groupby('name')['minutes'].expanding().mean().shift(1).fillna(0).reset_index(level=0, drop=True)


fwd_test_df['total_assists'] = fwd_test_df.groupby('name')['assists'].cumsum().shift(1).fillna(0)
fwd_test_df['total_goals'] = fwd_test_df.groupby('name')['goals_scored'].cumsum().shift(1).fillna(0)
fwd_test_df['total_starts'] = fwd_test_df.groupby('name')['starts'].cumsum().shift(1).fillna(0)


# Create a mapping from player names to categorical codes
fwd_test_df['name'] = fwd_test_df['name'].astype('category')
fwd_test_name_mapping = dict( enumerate( fwd_test_df['name'].cat.categories ) )
fwd_test_name_mapping_reverse = { v: k for k, v in fwd_test_name_mapping.items() }
fwd_test_df['name'] = fwd_test_df['name'].cat.codes

fwd_test_df['was_home'] = fwd_test_df['was_home'].astype('category')
fwd_test_df['was_home'] = fwd_test_df['was_home'].cat.codes


fwd_test_df = fwd_test_df.drop(['position','team','value','transfers_balance','bonus','own_goals','saves','team_a_score','team_h_score','red_cards','yellow_cards','transfers_in','transfers_out','penalties_missed','penalties_saved','clean_sheets','creativity','influence','threat','kickoff_time','fixture','round','element','starts','selected','ict_index','assists','avg_assists','goals_scored','avg_goals','bps','xP','expected_assists','expected_goals','expected_goal_involvements','expected_goals_conceded','goals_conceded','minutes'],axis=1)


fwd_y_test = fwd_test_df['total_points']
fwd_X_test = fwd_test_df.drop( ['total_points'],axis=1 )





fwd_rf = RandomForestRegressor( max_depth=4,max_features= 10,n_estimators= 100,random_state=13 )
fwd_rf.fit( fwd_X_train, fwd_y_train )


train_pred = fwd_rf.predict( fwd_X_train )
fwd_pred = fwd_rf.predict( fwd_X_test )


print( 'mean squared error: ', mean_squared_error( fwd_y_test, fwd_pred ) )
print( 'mean absolute error: ', mean_absolute_error( fwd_y_test, fwd_pred ) )
print( 'r2 score: ', r2_score( fwd_y_test, fwd_pred ) )

print( '-------------------------------------' )

print( 'train mean_squared_error : ', mean_squared_error( fwd_y_train, train_pred ) ) 
print( 'train mean_absolute_error : ', mean_absolute_error( fwd_y_train, train_pred ) ) 
print( 'r2 score: ', r2_score( fwd_y_train, train_pred ) )


# Plot predicted vs. actual values
plt.figure( figsize = ( 8, 8 ) )
plt.scatter( fwd_y_test, fwd_pred, color='blue' )
plt.plot( 0,10, 0,10, color='red', linestyle='--' )
plt.xlabel( 'Actual Values' )
plt.ylabel( 'Predicted Values' )
plt.title( 'Random Forest Predicted vs. Actual Values' )
plt.grid( True )
plt.show()





# Function to look up players predicted and actual points for a given gameweek
def lookupPlayer():
    position = input( "Select a position( 'gk', 'def', 'mid', 'fwd' ): " )
    if position == 'gk':
        pprint( gk_test_name_mapping )
        id = int( input( "Select an id for a player: " ) )
        gw = int( input( "Enter a game week 1-38: " ) )
        index = gk_X_test.loc[ ( gk_X_test['name'] == id ) & ( gk_X_test['GW'] == gw ) ].index
        print( gk_test_name_mapping[id], "predicted points for gameweek ", gw, ": ", gk_pred[index] )
        print( gk_test_name_mapping[id], "actual points for gameweek ", gw, ": ", gk_y_test[index] )
    elif position == 'def':
        pprint( def_test_name_mapping )
        id = int( input( "Select an id for a player: " ) )
        gw = int( input( "Enter a game week 1-38: " ) )
        index = def_X_test.loc[ ( def_X_test['name'] == id ) & ( def_X_test['GW'] == gw ) ].index
        print( def_test_name_mapping[id], "predicted points for gameweek ", gw, ": ", def_pred[index] )
        print( def_test_name_mapping[id], "actual points for gameweek ", gw, ": ", def_y_test[index] )
    
    elif position == 'mid':
        pprint( mid_test_name_mapping )
        id = int( input( "Select an id for a player: " ) )
        gw = int( input( "Enter a game week 1-38: " ) )
        index = mid_X_test.loc[ ( mid_X_test['name'] == id ) & ( mid_X_test['GW'] == gw ) ].index
        print( mid_test_name_mapping[id], "predicted points for gameweek ", gw, ": ", mid_pred[index] )
        print( mid_test_name_mapping[id], "actual points for gameweek ", gw, ": ", mid_y_test[index] )
    
    elif position == 'fwd':
        pprint( fwd_test_name_mapping )
        id = int( input ( "Select an id for a player: " ) )
        gw = int( input( "Enter a game week 1-38: " ) )
        index = fwd_X_test.loc[ ( mid_X_test['name'] == id ) & ( fwd_X_test['GW'] == gw ) ].index
        print( fwd_test_name_mapping[id], "predicted points for gameweek ", gw, ": ", fwd_pred[index] )
        print( fwd_test_name_mapping[id], "actual points for gameweek ", gw, ": ", fwd_y_test[index] )


# Add price to a players list in the team selection
def add_price( price_df, gw_df ):
    # create list of players in the gameweek dataframe
    name_list = []
    position = gw_df.iloc[0]['position']
    for name in gw_df['name']:
        if position == 'gk':
            name_list.append( gk_test_name_mapping[name] )
            
        elif position == 'def':
            name_list.append( def_test_name_mapping[name] )
            
        elif position == 'mid':
            name_list.append( mid_test_name_mapping[name] )
            
        else:
            name_list.append( fwd_test_name_mapping[name] )

    # remove players from price dataframe that are not in gameweek dataframe
    for name in price_df['name']:
        if name not in name_list:
            index_to_delete = price_df[ price_df['name'] == name ].index
            price_df = price_df.drop(index_to_delete)   
            
    position = price_df.iloc[0]['element_type']

    # convert names in price dataframes to numerical representations
    for name in price_df['name']:
        if position == 'GK':
            price_df['name'] = price_df['name'].replace( name, gk_test_name_mapping_reverse[name] )
            
        elif position == 'DEF':
            price_df['name'] = price_df['name'].replace( name, def_test_name_mapping_reverse[name] )
            
        elif position == 'MID':
            price_df['name'] = price_df['name'].replace( name, mid_test_name_mapping_reverse[name] )
            
        else:
            price_df['name'] = price_df['name'].replace( name, fwd_test_name_mapping_reverse[name] )

    # merge the price and gameweek dataframe into one sharing the name columns
    res = pd.merge( price_df, gw_df, on='name' )
    return res


# function that returns the top n players from a provided dataframe
def top_n_players( position_df, name_mapping, n ):
    new_list = []
    for i in range(n):
        temp_list = []
        name_index = position_df.iloc[i]['name']
        temp_list.append( name_mapping[ name_index ] )
        temp_list.append( position_df.iloc[ i]['position'] )
        temp_list.append( position_df.iloc[ i ][ 'points' ] )
        temp_list.append( position_df.iloc[ i] [ 'now_cost' ] )
        new_list.append( temp_list )

    best15.append( new_list )


# return dataframe the combines names and points for the given gameweek
def combine_dfs( pred, X_test, gw, pos ):
    pred_df = pd.DataFrame( pred, columns=['points'] )
    combined_df = pd.concat( [X_test, pred_df], axis=1 )
    temp_df = combined_df[ combined_df['GW'] == gw ]
    gameweek_df = temp_df[ ['name','points'] ]
    gameweek_df['position'] = pos
    
    price = price_df[price_df['element_type'] == pos.upper()]
    price_combined = add_price( price, gameweek_df )
    price_combined = price_combined.drop( ['element_type'], axis=1 )

    sorted = price_combined.sort_values( by='points', ascending = False )
    return sorted


# return the top 15 players predicted to perform in the given gameweek using a budget of 100 pounds
def combination( gk, defs, mid, fwd, budget ):
    df = pd.concat( [ gk, defs, mid, fwd ] )
    position_requirements = { 'gk':2, 'def':5, 'mid':5, 'fwd':3 }
    position_filled = { 'gk':0, 'def':0, 'mid':0, 'fwd':0 }
    best = []
    total_cost = 0
    df = df.sort_values(by='points', ascending=False)
    players = [ 4, 4, 4, 4, 4, 4, 4, 4, 4, 4, 4, 4, 4.5, 4.5, 4.3 ]
    i=0
    # add player with highest predicted points if position is needed and he fits under the budget leaving enough for other players
    for index,row in df.iterrows():
        pos = row['position']
        total = sum(players)
        total = round( total, 1 )
        if position_filled[pos] < position_requirements[pos] and total + (row['now_cost']-4) <= budget:
            best.append( row )         
            position_filled[pos] += 1
            players[i] = row['now_cost']
            total_cost += ( row['now_cost'] )
            total_cost = round( total_cost, 1 )
            i+=1
                
    gk = []
    mid = []
    defs = []
    fwd = []

    # convert numerical codes to names
    for elem in best:
        list = []
        for item in elem:
            list.append(item)
        if elem['position'] == 'gk':
            list[1] = gk_test_name_mapping[list[1]]
            gk.append(list)
        elif elem['position'] == 'def':
            list[1] = def_test_name_mapping[list[1]]
            defs.append(list)
        elif elem['position'] == 'mid':
            list[1] = mid_test_name_mapping[list[1]]
            mid.append(list)
        else:
            list[1] = fwd_test_name_mapping[list[1]]
            fwd.append(list)
    best15.append(gk)
    best15.append(defs)
    best15.append(mid)
    best15.append(fwd)
    return best15


# Picks the top 15 players( 2 gk, 5 def, 5 mid, 3 fwd ) you can have in your team under the budget of 100 pounds
def bestPossibleTeam( gw ):
    gk = combine_dfs( gk_pred, gk_X_test, gw, 'gk' )
    defs = combine_dfs( def_pred, def_X_test, gw, 'def' )
    mid = combine_dfs( mid_pred, mid_X_test, gw, 'mid' )
    fwd = combine_dfs( fwd_pred, fwd_X_test, gw, 'fwd' )

    # Account for double gameweeks by combining rows for players
    gk_df = gk.groupby(['name', 'position', 'now_cost'], as_index=False)['points'].sum()
    def_df = defs.groupby(['name', 'position', 'now_cost'], as_index=False)['points'].sum()
    mid_df = mid.groupby(['name', 'position', 'now_cost'], as_index=False)['points'].sum()
    fwd_df = fwd.groupby(['name', 'position', 'now_cost'], as_index=False)['points'].sum()
    
    gk_df = gk_df[['now_cost', 'name', 'points', 'position']]
    def_df = def_df[['now_cost', 'name', 'points', 'position']]
    mid_df = mid_df[['now_cost', 'name', 'points', 'position']]
    fwd_df = fwd_df[['now_cost', 'name', 'points', 'position']]
    
    best15 = combination( gk, def_df, mid_df, fwd_df, 100 )
    return best15


# Picks the best possible starting eleven given the 15 players chosen for the team
def startingXI():
    # Find starting gk
    starting11.append( best15[0][0] )
    gk =  best15[0][1]

    # Top 3 defenders
    starting11.append( best15[1][0] )
    starting11.append( best15[1][1] )
    starting11.append( best15[1][2] )
    bench4.append( best15[1][3] )
    bench4.append( best15[1][4] )

    # Top 2 mids
    starting11.append( best15[2][0] )
    starting11.append( best15[2][1] )
    bench4.append( best15[2][2] )
    bench4.append( best15[2][3] )
    bench4.append( best15[2][4] )

    # Top Forward
    starting11.append( best15[3][0] )
    bench4.append( best15[3][1] )
    bench4.append( best15[3][2] )

    # Next 4 highest players
    bench_sorted = sorted(bench4, key=lambda x: x[2], reverse=True)
    top4 = bench_sorted[:4]
    for player in top4:
        starting11.append( player )
        bench4.remove( player )
    bench4.append(gk)


# Return value of squad
def squadValue( squad ):
    value = 0
    for position in squad:
        for player in position:
            # print( player[3] )
            value += player[0]
    return value


# Return total predicted points for squad
def totalPoints( squad ):
    total_points = 0
    for player in squad:
        total_points += player[2]
    return total_points


# Print best predicted team for each gameweek, recommended starting XI, and squad value
gameweeks = [1,2,3,4,5,6,7,8,9,10,11,12,13,14,15,16,17,18,19,20,21,22,23,24,25,26,27,28,29,30,31,32,33,34,35,36,37]
for week in gameweeks:
    best15 = []
    print( "\nGameweek ", week, '\n----------------------------')
    bestPossibleTeam(week)
    value = squadValue( best15 )
    value = round( value, 1 )
    starting11 = []
    bench4 = []
    startingXI()
    team_points = totalPoints( starting11 )
    print( "\nStarting XI:\n----------------------" )
    starting11 = sorted(starting11, key=lambda x: ('gk', 'def', 'mid', 'fwd').index(x[3]))    
    for player in starting11:
        print( player )
    print( "\nBench\n----------------------- " )
    for player in bench4:
        print( player )
    print( '\nTotal predicted points: ', team_points )
    print( '\nSquad value: ', value )



